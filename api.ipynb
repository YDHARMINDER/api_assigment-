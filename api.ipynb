{
 "cells": [
  {
   "cell_type": "markdown",
   "id": "f7e5f5ce-c882-43d2-b23d-344f707dc049",
   "metadata": {},
   "source": [
    "Q1 API is Application programming interfacer used to communicate between different platform or same platform. window to window or other os or platform.\n",
    "APIs are used in web applications to connect user-facing front ends with critical back-end functionality and data. APIs are used to deliver material by streaming services such as Spotify and Netflix. APIs are used by automakers such as Tesla to provide software upgrades."
   ]
  },
  {
   "cell_type": "markdown",
   "id": "cac319c2-9676-4197-ac1a-c6e1c2199e24",
   "metadata": {},
   "source": [
    "Ans2 \n",
    "1. Automation\n",
    "When using an API managed by computers, less human effort is required and workflows can be easily updated to become faster and more productive. \n",
    "2. Developer efficiency and innovation\n",
    "APIs empower developers to be more productive by reusing code in complex but repetitive processes. They don’t need to start from scratch as the API specifies how to assemble software components in a program. APIs exist to make it easy to interface with other developers' applications.\n",
    "\n",
    "3. Improved value proposition\n",
    "By using APIs made available by companies, an application can integrate those services into their own systems to make themselves more attractive to customers.\n",
    "\n",
    "Challenges of using APIs\n",
    "1.APIs carry a number of watch-outs, too the most important being security.\n",
    "\n",
    "2. Poor integration means that an API can be vulnerable to attacks, yet data breaches or losses have huge ramifications when it comes to the finances and reputation of a company. Attacks can also negatively affect the customers of an application as their data and information are compromised."
   ]
  },
  {
   "cell_type": "markdown",
   "id": "8e941c63-d447-4d70-8326-d32ffccd1fca",
   "metadata": {},
   "source": [
    "ans3\n",
    "A web API is an application programming interface for either a web server or a web browser. \n",
    "As a web development concept, it can be related to a web application's client side.\n",
    "\n",
    "Difference between WEB api and  API\n",
    "\n",
    "APIs are application interfaces, meaning that one application is able to interact with another application in a standardized way. Web services are a type of API, which must be accessed through a network connection. REST APIs are a standardized architecture for building web APIs using HTTP methods.\n",
    "\n",
    "\n"
   ]
  },
  {
   "cell_type": "markdown",
   "id": "7092e8ff-6800-48ae-87ad-2166759ad4e8",
   "metadata": {},
   "source": [
    "ans4\n",
    "SOAP is a protocol which was designed before REST and came into the picture. The main idea behind designing SOAP was to ensure that programs builtSOAP is a protocol which was designed before REST and came into the picture. The main idea behind designing SOAP was to ensure that programs built on different platforms and programming languages could exchange data in an easy manner. SOAP stands for Simple Object Access Protocol. on different platforms and programming languages could exchange data in an easy manner. \n",
    "\n",
    "REST was designed specifically for working with components such as media components, files, or even objects on a particular hardware device. Any web service that is defined on the principles of REST can be called a RestFul web service. A Restful service would use the normal HTTP verbs of GET, POST, PUT and DELETE for working with the required components. REST stands for Representational State Transfer.\n",
    "\n",
    "difference betwwen soap and rest \n",
    "SOAP stands for Simple Object Access Protocol\t                               REST stands for Representational State Transfer\n",
    "SOAP is a protocol. SOAP was designed with a specification. \n",
    "It includes a WSDL file which has the required information \n",
    "on what the web service does in addition to the location of the web service.\tREST is an Architectural style in which a web service can                                                                                   only be treated as a RESTful service if it follows the                                                                                      constraints of being\n",
    "                                                                                  Client Server\n",
    "                                                                                  Stateless\n",
    "                                                                                  Cacheable\n",
    "                                                                                   Layered System\n",
    "                                                                                  Uniform Interface\n",
    "SOAP cannot make use of REST since SOAP is a protocol and REST is an \n",
    "architectural pattern.\t                                                         REST can make use of SOAP as the underlying protocol for                                                                                    web services, because in the end it is just an                                                                                              architectural pattern.\n",
    "SOAP uses service interfaces to expose its functionality to client applications.\n",
    "In SOAP, the WSDL file provides the client with the necessary information which \n",
    "can be used to understand what services the web service can offer.\t              REST use Uniform Service locators to access to the                                                                                         components on the hardware device. \n",
    "\n",
    "\n",
    "SOAP requires more bandwidth for its usage.                                       REST does not need much bandwidth when requests are sent                                                                                   to the server. REST messages mostly just consist of JSON                                                                                   messages. \n",
    "SOAP can only work with XML format.                         \tREST permits different data format such as Plain text, HTML, XML, JSON, etc. But the most preferred format for transferring data is JSON.\n"
   ]
  }
 ],
 "metadata": {
  "kernelspec": {
   "display_name": "Python 3 (ipykernel)",
   "language": "python",
   "name": "python3"
  },
  "language_info": {
   "codemirror_mode": {
    "name": "ipython",
    "version": 3
   },
   "file_extension": ".py",
   "mimetype": "text/x-python",
   "name": "python",
   "nbconvert_exporter": "python",
   "pygments_lexer": "ipython3",
   "version": "3.10.8"
  }
 },
 "nbformat": 4,
 "nbformat_minor": 5
}
